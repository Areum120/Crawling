{
 "cells": [
  {
   "cell_type": "code",
   "execution_count": 9,
   "metadata": {},
   "outputs": [],
   "source": [
    "from bs4 import BeautifulSoup\n",
    "from selenium import webdriver\n",
    "import time#time.sleep 명령어 실행하기 위해 import\n",
    "import re"
   ]
  },
  {
   "cell_type": "code",
   "execution_count": 10,
   "metadata": {},
   "outputs": [],
   "source": [
    "path = \"C:\\study\\python\\datadown\\chromedriver.exe\"\n",
    "driver = webdriver.Chrome(path)\n",
    "\n",
    "query_txt = '코로나'\n",
    "\n",
    "driver.get(\"https://www.data.go.kr/\")\n",
    "time.sleep(2)"
   ]
  },
  {
   "cell_type": "code",
   "execution_count": 11,
   "metadata": {},
   "outputs": [],
   "source": [
    "try:\n",
    "    driver.find_element_by_xpath('//*[@id=\"layer_popup_info_1\"]/div[1]/a').click()\n",
    "    time.sleep(1)\n",
    "    driver.find_element_by_xpath('//*[@id=\"layer_popup_info_0\"]/div[1]/a').click()\n",
    "except:\n",
    "    print(\"코로나 창이 없습니다.\")"
   ]
  },
  {
   "cell_type": "code",
   "execution_count": 12,
   "metadata": {},
   "outputs": [],
   "source": [
    "element = driver.find_element_by_id(\"keyword\")\n",
    "element.send_keys(query_txt)#검색어입력하게 하는 부분\n",
    "element.send_keys(\"\\n\")#엔터효과"
   ]
  },
  {
   "cell_type": "code",
   "execution_count": 13,
   "metadata": {},
   "outputs": [],
   "source": [
    " \n",
    "time.sleep(1)\n",
    " \n",
    "full_html = driver.page_source\n",
    "# 검색결과 페이지의 전체 HTML 소스코드 가져온다\n",
    " \n",
    "soup = BeautifulSoup(full_html, 'html.parser')"
   ]
  },
  {
   "cell_type": "markdown",
   "metadata": {},
   "source": [
    "### 검색결과 다양한 형식의 파일저장 ###"
   ]
  },
  {
   "cell_type": "code",
   "execution_count": null,
   "metadata": {},
   "outputs": [],
   "source": [
    "# 1. 검색결과 다양한 형식의 파일저장\n",
    "# - 추출된 데이터들을 xls형식과 csv 형식, txt형식의 파일로 저장한다.\n",
    "# - 실무에서 데이터분석 작업시에는 csv, xls 형식으로 저장하는 경우도\n",
    "#   아주 많다.\n",
    "\n",
    "# (1) 검색결과에서 항목별로 데이터 추출\n",
    "\n",
    "# 1) 크롬 driver 사용하여 검색 자동 실행\n",
    "# - 앞에서 실습한 소스코드에서 csv와 xls형식으로 저장할 파일 이름을\n",
    "#   추가로 입력받는다."
   ]
  },
  {
   "cell_type": "code",
   "execution_count": null,
   "metadata": {},
   "outputs": [],
   "source": [
    "f_name = C:\\\\study\\\\python\\\\notebook\\\\data\\\\test.txt"
   ]
  },
  {
   "cell_type": "code",
   "execution_count": null,
   "metadata": {},
   "outputs": [],
   "source": [
    "fc_name = input('검색 결과를 저장할 csv 파일경로와 이름을 지정하세요(예:C:\\\\study\\\\python\\\\notebook\\\\data\\\\test.csv): ')"
   ]
  },
  {
   "cell_type": "code",
   "execution_count": null,
   "metadata": {},
   "outputs": [],
   "source": [
    "fx_name = input('검색 결과를 저장할 xls 파일경로와 이름을 지정하세요(C:\\\\study\\\\python\\\\notebook\\\\data\\\\test.xls): ')"
   ]
  },
  {
   "cell_type": "code",
   "execution_count": null,
   "metadata": {},
   "outputs": [],
   "source": [
    "import sys\n",
    "orig_stdout = sys.stdout \n",
    "f = open(f_name , 'a' , encoding='UTF-8')\n",
    "sys.stdout = f\n",
    "time.sleep(1)"
   ]
  },
  {
   "cell_type": "code",
   "execution_count": 36,
   "metadata": {},
   "outputs": [
    {
     "name": "stdout",
     "output_type": "stream",
     "text": [
      "번호: 1\n",
      "타이틀: 한국언론진흥재단_뉴스빅데이터_메타데이터_코로나\n",
      "세부정보: 제공기관한국언론진흥재단수정일2020-11-19조회수7395다운로드2163주기성데이터8\n",
      "\n",
      "\n"
     ]
    }
   ],
   "source": [
    "# - 한페이지에 게시물이 10개가 있으므로 반복하여 추출하여 출력한다.\n",
    "\n",
    "# 번호 1개만 가져오는 문제\n",
    "# find_all('div','result-list')#2개 result list 먼저 다 가져오기\n",
    "# ->ul->li->span, title 꺼내는 순\n",
    "\n",
    "\n",
    "# Step 5. 각 항목별로 분리하여 추출하고 변수에 할당하기\n",
    "no = 1\n",
    "no2 =[ ]#번호 넣기\n",
    "titles2=[ ]\n",
    "info2=[ ]\n",
    "\n",
    "content_list2 = soup.find_all('div','data-set-list file-data dTypeList')\n",
    "\n",
    "for content in content_list2:\n",
    "\n",
    "    no2.append(no)\n",
    "    print('번호:',no)\n",
    "    if content.find('div', 'result-list'):\n",
    "        titles = content.find('span', 'title')\n",
    "        tt = titles.get_text()\n",
    "#         print(titles)\n",
    "        titles2.append(tt)\n",
    "        print('타이틀:', tt.strip())#양쪽공백만 제거\n",
    "    else:\n",
    "        titles = '내용없음'\n",
    "        titles2.append(titles)\n",
    "        print('타이틀:', titles.strip())\n",
    "\n",
    "    pattern = re.compile(r'\\s+')#re모듈 사용해서 모든 공백 문자 제거\n",
    "\n",
    "    if content.find('div','info-data'):\n",
    "        info = content.find('div','info-data').get_text()\n",
    "        info2.append(info)\n",
    "        info = re.sub(pattern, '', info)#모든 공백문자 제거 re모듈 사용\n",
    "        print('세부정보:', info)\n",
    "    else:\n",
    "        info = \"태그없음\"\n",
    "        info2.append(info)\n",
    "        print('세부정보:', info)\n",
    "    print(\"\\n\")\n",
    "    no += 1\n",
    "    \n"
   ]
  },
  {
   "cell_type": "code",
   "execution_count": null,
   "metadata": {},
   "outputs": [],
   "source": [
    "# (2) 표 형태로 만들어서 다양한 형식의 파일로 저장\n",
    " \n",
    "#  1) 표형태로 만들어서 저장하는 작업순서\n",
    "#  ① DataFrame을 생성한다.\n",
    "#  ② 생성한 DataFrame에 각각의 컬럼을 지정한다.\n",
    "#  ③ ②의 DataFrame을 xls 형식이나 csv 형식으로 저장한다.\n",
    "\n",
    "#  - DataFrame을 사용하기 위해서는 pandas 패키지, xls 형식을 저장 하려면 xlwt\n",
    "#    패키지를 설치해야 한다. \n",
    "#  - cmd 관리자 권한으로 실행하여 pip install pandas, pip install xlwt 한다.\n",
    "#  - jupyter notebook 에서 cmd 명령을 사용할 수 있으므로\n",
    "#    !pip install pandas, !pip install xlwt 한다.\n",
    "\n",
    "#  - 우리는 가상환경 pydata를 만들때 pandas를 같이 설치했기때문에 xlwt 패키지만\n",
    "#    설치한다.\n",
    "\n",
    "!pip list\n",
    "!pip install xlwt"
   ]
  },
  {
   "cell_type": "code",
   "execution_count": null,
   "metadata": {},
   "outputs": [],
   "source": [
    "# 학습목표 2: 분리 수집된 데이터를 데이터 프레임으로 만들어서 \n",
    "# csv , xls 형식으로 저장하기\n",
    "  \n",
    "# 출력 결과를 표(데이터 프레임) 형태로 만들기\n",
    "import pandas as pd\n",
    " \n",
    "korea_trip = pd.DataFrame()\n",
    "korea_trip['번호']=no2\n",
    "korea_trip['내용']=contents2\n",
    "korea_trip['태그']=tags2\n",
    " \n",
    "# csv 형태로 저장하기,encoding 주의 -엑셀로 열때 깨지지 않고 잘 열림\n",
    "korea_trip.to_csv(fc_name, encoding=\"utf-8-sig\")\n",
    "print(\" csv 파일 저장 경로: %s\" %fc_name)\n",
    " \n",
    "# 엑셀 형태로 저장하기\n",
    "import xlwt   # pip install xlwt 실행 후 수행\n",
    "korea_trip.to_excel(fx_name)\n",
    "print(\" xls 파일 저장 경로: %s\" %fx_name)\n",
    " \n",
    "# 출력 결과를 txt 파일로 저장하기\n",
    "f = open(f_name, 'a',encoding='UTF-8')\n",
    "f.write(str(contents2))\n",
    "f.write(str(tags2))\n",
    "f.close( )\n",
    "print(\" txt 파일 저장 경로: %s\" %f_name)  "
   ]
  },
  {
   "cell_type": "code",
   "execution_count": null,
   "metadata": {},
   "outputs": [],
   "source": []
  },
  {
   "cell_type": "code",
   "execution_count": null,
   "metadata": {},
   "outputs": [],
   "source": []
  }
 ],
 "metadata": {
  "kernelspec": {
   "display_name": "pydata",
   "language": "python",
   "name": "pydata"
  },
  "language_info": {
   "codemirror_mode": {
    "name": "ipython",
    "version": 3
   },
   "file_extension": ".py",
   "mimetype": "text/x-python",
   "name": "python",
   "nbconvert_exporter": "python",
   "pygments_lexer": "ipython3",
   "version": "3.7.10"
  }
 },
 "nbformat": 4,
 "nbformat_minor": 4
}
